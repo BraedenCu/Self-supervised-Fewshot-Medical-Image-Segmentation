{
 "cells": [
  {
   "cell_type": "markdown",
   "metadata": {},
   "source": [
    "## Generate class-slice indexing table for experiments\n",
    "\n",
    "\n",
    "### Overview\n",
    "\n",
    "This is for experiment setting up for simulating few-shot image segmentation scenarios\n",
    "\n",
    "Input: pre-processed images and their ground-truth labels\n",
    "\n",
    "Output: a `json` file for class-slice indexing"
   ]
  },
  {
   "cell_type": "code",
   "execution_count": 17,
   "metadata": {},
   "outputs": [
    {
     "name": "stdout",
     "output_type": "stream",
     "text": [
      "Once deleted, variables cannot be recovered. Proceed (y/[n])? y\n",
      "The autoreload extension is already loaded. To reload it, use:\n",
      "  %reload_ext autoreload\n"
     ]
    }
   ],
   "source": [
    "%reset\n",
    "%load_ext autoreload\n",
    "%autoreload 2\n",
    "import numpy as np\n",
    "import os\n",
    "import glob\n",
    "import SimpleITK as sitk\n",
    "import niftiio as nio\n",
    "import sys\n",
    "import json"
   ]
  },
  {
   "cell_type": "code",
   "execution_count": 18,
   "metadata": {},
   "outputs": [],
   "source": [
    "IMG_BNAME=\"../data/chaos_MR_train_T2_histv3/image_*.nii.gz\"\n",
    "SEG_BNAME=\"../data/chaos_MR_train_T2_histv3/label_*.nii.gz\""
   ]
  },
  {
   "cell_type": "code",
   "execution_count": 19,
   "metadata": {},
   "outputs": [],
   "source": [
    "imgs = glob.glob(IMG_BNAME)\n",
    "segs = glob.glob(SEG_BNAME)\n",
    "imgs = [ fid for fid in sorted(imgs, key = lambda x: int(x.split(\"_\")[-1].split(\".nii.gz\")[0])  ) ]\n",
    "segs = [ fid for fid in sorted(segs, key = lambda x: int(x.split(\"_\")[-1].split(\".nii.gz\")[0])  ) ]\n"
   ]
  },
  {
   "cell_type": "code",
   "execution_count": 20,
   "metadata": {},
   "outputs": [
    {
     "data": {
      "text/plain": [
       "['../data/chaos_MR_train_T2_histv3/image_1.nii.gz',\n",
       " '../data/chaos_MR_train_T2_histv3/image_2.nii.gz',\n",
       " '../data/chaos_MR_train_T2_histv3/image_3.nii.gz',\n",
       " '../data/chaos_MR_train_T2_histv3/image_5.nii.gz',\n",
       " '../data/chaos_MR_train_T2_histv3/image_8.nii.gz',\n",
       " '../data/chaos_MR_train_T2_histv3/image_10.nii.gz',\n",
       " '../data/chaos_MR_train_T2_histv3/image_13.nii.gz',\n",
       " '../data/chaos_MR_train_T2_histv3/image_15.nii.gz',\n",
       " '../data/chaos_MR_train_T2_histv3/image_19.nii.gz',\n",
       " '../data/chaos_MR_train_T2_histv3/image_20.nii.gz',\n",
       " '../data/chaos_MR_train_T2_histv3/image_21.nii.gz',\n",
       " '../data/chaos_MR_train_T2_histv3/image_22.nii.gz',\n",
       " '../data/chaos_MR_train_T2_histv3/image_31.nii.gz',\n",
       " '../data/chaos_MR_train_T2_histv3/image_32.nii.gz',\n",
       " '../data/chaos_MR_train_T2_histv3/image_33.nii.gz',\n",
       " '../data/chaos_MR_train_T2_histv3/image_34.nii.gz',\n",
       " '../data/chaos_MR_train_T2_histv3/image_36.nii.gz',\n",
       " '../data/chaos_MR_train_T2_histv3/image_37.nii.gz',\n",
       " '../data/chaos_MR_train_T2_histv3/image_38.nii.gz',\n",
       " '../data/chaos_MR_train_T2_histv3/image_39.nii.gz']"
      ]
     },
     "execution_count": 20,
     "metadata": {},
     "output_type": "execute_result"
    }
   ],
   "source": [
    "imgs"
   ]
  },
  {
   "cell_type": "code",
   "execution_count": 22,
   "metadata": {},
   "outputs": [
    {
     "data": {
      "text/plain": [
       "['../data/chaos_MR_train_T2_histv3/label_1.nii.gz',\n",
       " '../data/chaos_MR_train_T2_histv3/label_2.nii.gz',\n",
       " '../data/chaos_MR_train_T2_histv3/label_3.nii.gz',\n",
       " '../data/chaos_MR_train_T2_histv3/label_5.nii.gz',\n",
       " '../data/chaos_MR_train_T2_histv3/label_8.nii.gz',\n",
       " '../data/chaos_MR_train_T2_histv3/label_10.nii.gz',\n",
       " '../data/chaos_MR_train_T2_histv3/label_13.nii.gz',\n",
       " '../data/chaos_MR_train_T2_histv3/label_15.nii.gz',\n",
       " '../data/chaos_MR_train_T2_histv3/label_19.nii.gz',\n",
       " '../data/chaos_MR_train_T2_histv3/label_20.nii.gz',\n",
       " '../data/chaos_MR_train_T2_histv3/label_21.nii.gz',\n",
       " '../data/chaos_MR_train_T2_histv3/label_22.nii.gz',\n",
       " '../data/chaos_MR_train_T2_histv3/label_31.nii.gz',\n",
       " '../data/chaos_MR_train_T2_histv3/label_32.nii.gz',\n",
       " '../data/chaos_MR_train_T2_histv3/label_33.nii.gz',\n",
       " '../data/chaos_MR_train_T2_histv3/label_34.nii.gz',\n",
       " '../data/chaos_MR_train_T2_histv3/label_36.nii.gz',\n",
       " '../data/chaos_MR_train_T2_histv3/label_37.nii.gz',\n",
       " '../data/chaos_MR_train_T2_histv3/label_38.nii.gz',\n",
       " '../data/chaos_MR_train_T2_histv3/label_39.nii.gz']"
      ]
     },
     "execution_count": 22,
     "metadata": {},
     "output_type": "execute_result"
    }
   ],
   "source": [
    "segs"
   ]
  },
  {
   "cell_type": "code",
   "execution_count": 26,
   "metadata": {},
   "outputs": [
    {
     "name": "stdout",
     "output_type": "stream",
     "text": [
      "pid 1 finished!\n",
      "pid 2 finished!\n",
      "pid 3 finished!\n",
      "pid 5 finished!\n",
      "pid 8 finished!\n",
      "pid 10 finished!\n",
      "pid 13 finished!\n",
      "pid 15 finished!\n",
      "pid 19 finished!\n",
      "pid 20 finished!\n",
      "pid 21 finished!\n",
      "pid 22 finished!\n",
      "pid 31 finished!\n",
      "pid 32 finished!\n",
      "pid 33 finished!\n",
      "pid 34 finished!\n",
      "pid 36 finished!\n",
      "pid 37 finished!\n",
      "pid 38 finished!\n",
      "pid 39 finished!\n"
     ]
    }
   ],
   "source": [
    "classmap = {}\n",
    "LABEL_NAME = [\"BG\", \"LIVER\", \"RK\", \"LK\", \"SPLEEN\"]     \n",
    "\n",
    "\n",
    "MIN_TP = 1 # minimum number of positive label pixels to be recorded. Use >100 when training with manual annotations for more stable training\n",
    "\n",
    "fid = f'../data/chaos_MR_train_T2_histv3/classmap_{MIN_TP}.json' # name of the output file. \n",
    "for _lb in LABEL_NAME:\n",
    "    classmap[_lb] = {}\n",
    "    for _sid in segs:\n",
    "        pid = _sid.split(\"_\")[-1].split(\".nii.gz\")[0]\n",
    "        classmap[_lb][pid] = []\n",
    "\n",
    "for seg in segs:\n",
    "    pid = seg.split(\"_\")[-1].split(\".nii.gz\")[0]\n",
    "    lb_vol = nio.read_nii_bysitk(seg)\n",
    "    n_slice = lb_vol.shape[0]\n",
    "    for slc in range(n_slice):\n",
    "        for cls in range(len(LABEL_NAME)):\n",
    "            if cls in lb_vol[slc, ...]:\n",
    "                if np.sum( lb_vol[slc, ...]) >= MIN_TP:\n",
    "                    classmap[LABEL_NAME[cls]][str(pid)].append(slc)\n",
    "    print(f'pid {str(pid)} finished!')\n",
    "    \n",
    "with open(fid, 'w') as fopen:\n",
    "    json.dump(classmap, fopen)\n",
    "    fopen.close()  \n",
    "    "
   ]
  },
  {
   "cell_type": "code",
   "execution_count": 20,
   "metadata": {},
   "outputs": [],
   "source": [
    "with open(fid, 'w') as fopen:\n",
    "    json.dump(classmap, fopen)\n",
    "    fopen.close()"
   ]
  }
 ],
 "metadata": {
  "kernelspec": {
   "display_name": "Python 3",
   "language": "python",
   "name": "python3"
  },
  "language_info": {
   "codemirror_mode": {
    "name": "ipython",
    "version": 3
   },
   "file_extension": ".py",
   "mimetype": "text/x-python",
   "name": "python",
   "nbconvert_exporter": "python",
   "pygments_lexer": "ipython3",
   "version": "3.6.0"
  }
 },
 "nbformat": 4,
 "nbformat_minor": 2
}
